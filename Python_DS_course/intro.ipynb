{
 "cells": [
  {
   "cell_type": "markdown",
   "metadata": {},
   "source": [
    "## This notebook serves as both an introduction to Jupyter notebooks *and* a brief introduction to Python.\n",
    "\n",
    "Note that this portion is not a comprehensive discussion of the Python language.  There are many books (with many 100's of pages) on the subject, and the goal here is to introduce you to some basic concepts that will be used in this workshop."
   ]
  },
  {
   "cell_type": "markdown",
   "metadata": {},
   "source": [
    "### With jupyter notebooks, you can describe what you are doing right next to your code.  \n",
    "\n",
    "This is **very** helpful for yourself and your collaborators.  You WILL forget what you were doing if you come back to the code in 2 weeks (or even tomorrow...).  Typically, the reading of code can be helped by including \"comments\"-- these are remarks or notes that go directly next to the code.  However, it is much easier to read formatted comments and equations, possibly including figures.   \n",
    "\n",
    "As we work through this tutorial, I will show pieces of code and attempt to explain the rationale behind each decision.\n",
    "\n",
    "In the cell below, I will show the most basic introduction to Python:"
   ]
  },
  {
   "cell_type": "code",
   "execution_count": 3,
   "metadata": {},
   "outputs": [
    {
     "name": "stdout",
     "output_type": "stream",
     "text": [
      "20 10 125\n"
     ]
    }
   ],
   "source": [
    "# You can also describe what you are doing in code-- just start the line with \"#\"\n",
    "# These \"comments\" tend to be short, so more general descriptions or motivation should probably go in the \"markdown\" cells.\n",
    "\n",
    "# Below, I declare a variable x and set it equal to 5\n",
    "x = 5\n",
    "\n",
    "# Now, I can perform operations on x:\n",
    "y1 = x*4\n",
    "y2 = x+5\n",
    "y3 = x**3 # x \"cubed\".\n",
    "print(y1,y2,y3)"
   ]
  },
  {
   "cell_type": "markdown",
   "metadata": {},
   "source": [
    "### Above, we declared an integer `x` and performed some operations.  It appears trivial, but it covers a number of basic, but important, items.\n",
    "\n",
    "Any time we use the `=` sign, we are performing an \"assignment\" of a value to a variable.  In our usual mathematical language, we might read `x=5` as \"x equals 5\".  While that interpretation is OK here, it becomes a little more confusing if we write,\n",
    "\n",
    "```\n",
    "x = 0\n",
    "x = x + 1\n",
    "```\n",
    "\n",
    "This is perfectly valid Python, and the second line is commonly used to increment the value of x; you might use such a line if you were counting sequencing reads by scrolling through a large file.\n",
    "However, if we read `x=x+1` as a typical algebraic \"equation\", it does not make much sense.  It is better to read it as \"x is assigned the value of x plus 1\".  Specifically, we see that the value of `x` starts at zero on the first line.  In the second line, we take the existing value of `x` (which is zero), add 1 to it, and re-assign it to `x`.  Thus, in the end, `x` holds the value 1.     \n",
    "\n",
    "### In other languages, you often have to initially decide what \"type\" a variable is.  Not with Python.\n",
    "\n",
    "Above, we made `x` equal to an integer.  However, we did not explicitly declare that `x` MUST be an integer.  For example, in C++, you would have to write:\n",
    "```\n",
    "int x = 5;\n",
    "double y = 3.2;\n",
    "```\n",
    "(note that `double` is essentially a non-integer number).\n",
    "\n",
    "In C++ (and other languages), once variables are declared, you *cannot* change the type.  If you later tried to set `x=4.6`, your program would generate an error, explaining that you tried to assign a \"double\" to a variable that only accepts integers.\n",
    "\n",
    "Python is very relaxed about that, trading convenience for speed.  By strictly enforcing \"types\", software written in languages like C++ can be further optimized for high performance.  However, the loss in performance for Python is often negligible for most applications.\n",
    "\n",
    "### Note that *for the most part* white space does not matter, EXCEPT at the start of a line:"
   ]
  },
  {
   "cell_type": "code",
   "execution_count": 4,
   "metadata": {},
   "outputs": [],
   "source": [
    "# These are all the same and valid:\n",
    "x=5\n",
    "x   =     5\n",
    "x  =5"
   ]
  },
  {
   "cell_type": "markdown",
   "metadata": {},
   "source": [
    "All of the above are valid and equivalent.  The space **after** `x` does not matter.\n",
    "\n",
    "### The reason white-space matters at the start of the line is that Python uses the \"leading\" white space to create \"code blocks\".  This whitespace can created either by spaces or with the \"Tab\" key.  As long as you are consistent, it is OK.  \n",
    "\n",
    "That said, it is recommended to use typically use 4 spaces.  This makes the indents large enough to be obvious when reading the code.\n",
    "\n",
    "For example, we show intentation in the `for` loop below:"
   ]
  },
  {
   "cell_type": "code",
   "execution_count": 6,
   "metadata": {},
   "outputs": [
    {
     "name": "stdout",
     "output_type": "stream",
     "text": [
      "88\n",
      "46\n",
      "93\n",
      "49\n",
      "97\n"
     ]
    }
   ],
   "source": [
    "# This \"import\" gives us access to \"out of the box\" code that lets us generate random numbers\n",
    "import random\n",
    "\n",
    "# Generate 5 random integers between zero and 100:\n",
    "for i in range(5):\n",
    "    x = random.randint(0,100)\n",
    "    print(x)\n",
    "print('Done')"
   ]
  },
  {
   "cell_type": "markdown",
   "metadata": {},
   "source": [
    "Above, the `for` loop lets us do something repeatedly-- for the same amount of typing we can do this for 5 random integers, or 5 million.  Each time, the indented code (only two lines) is executed; Python analyzes the \"leading\" space to determine the code blocks.  \n",
    "\n",
    "If it helps, you can imagine a small arrow going line-by-line through the `for` loop.  The arrow executes a code statement and goes to the next line.  When it reaches the bottom of the indented block, it jumps back to the start of the loop and goes again.  \n",
    "\n",
    "Note that `range(n)` is a simple way to generate the numbers 0,1,2,3,..., n-2, n-1.  **Important**: note that `range(5)` starts at zero and ends at 4.  Most people might expect 1,2,3,4,5.\n",
    "\n",
    "### We can indent as many times as we like to create the logic we need.  However, it is uncommon to indent more than a few times.\n",
    "\n",
    "Below, we show nested code blocks.  As we loop through a list with a `for` loop, we check each number to determine if it is even or odd.  This introduces \"conditional statements\":"
   ]
  },
  {
   "cell_type": "code",
   "execution_count": 5,
   "metadata": {},
   "outputs": [
    {
     "name": "stdout",
     "output_type": "stream",
     "text": [
      "Look at 0\n",
      "0 is even.\n",
      "...\n",
      "Look at 5\n",
      "5 is odd.\n",
      "...\n",
      "Look at 7\n",
      "7 is odd.\n",
      "...\n",
      "Look at 4\n",
      "4 is even.\n",
      "...\n",
      "Look at 1\n",
      "1 is odd.\n",
      "...\n",
      "Look at 2\n",
      "2 is even.\n",
      "...\n",
      "Done with loop.\n"
     ]
    }
   ],
   "source": [
    "a_list = [0,5,7,4,1,2]\n",
    "for x in a_list:\n",
    "    print('Look at ' + str(x))\n",
    "    if (x % 2) == 0:\n",
    "        print(str(x) + ' is even.')\n",
    "    else:\n",
    "        print(str(x) + ' is odd.')\n",
    "    print('...')\n",
    "print('Done with loop.')"
   ]
  },
  {
   "cell_type": "markdown",
   "metadata": {},
   "source": [
    "### Some notes about the code above:\n",
    "- We declare a **list** by putting items inside the square brackets `[...]`.  Lists can be anything, even mixing \"types\".  For instance, \n",
    "```\n",
    "a_list = [1, 'a', 2.3, 'b']\n",
    "```\n",
    "is valid Python.  This list mixed integers, \"strings\" (letters/words), and \"floats\" (non-integer numbers).\n",
    "\n",
    "- The `for` loop allows us to go through the list (`a_list`) one item at a time.  The indented code (lines 3-8) is run *each time* through the loop.\n",
    "  Since our list contained six items, the loop is run six times.\n",
    "  \n",
    "- We also showed a \"conditional\" statement (the `if...else`).  This allows us to take different actions depending on whether a condition is met.  For instance, if a gene is upregulated, we might take an action.  Otherwise, we might do something else.  Note that the code to be executed is indented further.  These conditional statements can be as complex as you need.\n",
    "\n",
    "- We used the \"modulo\" operator (`%`) to get a division \"remainder\".  For example, `8 % 3` evaluates to 2.  This is because the *quotient* of 8 divided by 3 is 2, with a remainder of 2.  Similarly, `7 % 2` evaluates to 1 since the quotient is 3 with a remainder of 1.  The pattern of `x % 2 == 0` is a very common programming idiom for testing whether an integer is even or odd.  \n",
    "\n",
    "- We used a \"comparison operator\" to test whether the current integer was even.\n",
    "    - A single equals (`=`) means \"assignment\". i.e. `x=2` can be read as, \"set the variable x equal to 2\"\n",
    "    - The double equals `==` tests whether the items are equivlant. i.e. x==y can be read as \"is x equal to y?\"\n",
    "    - Similarly, we can test if things are not equal (`x != y`), less than (`x > y`), and so on.\n",
    "    \n",
    "    \n",
    "- Note that to make the `print` statements, we had to \"wrap\" the variable `x` (which was an integer)  by writing: `str(x)`.  By using `str(x)` we were able to express the integer (e.g. 5) as a \"string\" (e.g. \"5\").  This allowed us to then \"sum/add\" it to another string/word.  Otherwise, Python gets confused...how can it \"sum\" an integer and a word?  It knows how to \"sum\" two strings just by putting them next to each other.  For example, `y=\"ABC\" + \"def\"` gives `y=\"ABCdef\"`.\n",
    "\n",
    "- Note that when you write strings/words, you can use either single (`'`) or double quotes (`\"`).  These are equialent:\n",
    "```\n",
    "x = 'abc'\n",
    "y = \"abc\"\n",
    "```"
   ]
  },
  {
   "cell_type": "markdown",
   "metadata": {},
   "source": [
    "### One additional VERY useful item is the Python \"dictionary\".  These are essentially \"lookup tables\" (or \"mappings\") and best demonstrated with a couple examples:"
   ]
  },
  {
   "cell_type": "code",
   "execution_count": 6,
   "metadata": {},
   "outputs": [],
   "source": [
    "ensg_to_genes = {\n",
    "    'ENSG00000141510': 'TP53',\n",
    "    'ENSG00000134323': 'MYCN',\n",
    "    'ENSG00000171094': 'ALK'\n",
    "}\n",
    "\n",
    "# the 'key' can reference anything-- below it points at a list of genes in a hypothetical pathway\n",
    "pathways = {\n",
    "    'pathway_A': ['TP53', 'BCL2L12', 'MTOR'],\n",
    "    'pathway_X': ['MYCN', 'PPARG', 'EGFR']\n",
    "}"
   ]
  },
  {
   "cell_type": "markdown",
   "metadata": {},
   "source": [
    "Each \"key\" (which is unique!) points at a \"value\"; you will also see these called \"key-value pairs\".  In the first dictionary (`ensg_to_genes`), the unique \"ENSG\" IDs maps to the common gene name (a string).  In the second dictionary (`pathways`), the unique pathway names point at a list of strings.  \n",
    "\n",
    "The \"keys\" can be anything unique and the values can be any valid Python \"thing\".   \n",
    "\n",
    "To demonstrate their use, imagine you have a list of Ensembl gene IDs and you want the common gene symbol.  Given the `ensg_to_genes` dictionary above, you can simply \"address\" the dictionary:"
   ]
  },
  {
   "cell_type": "code",
   "execution_count": 7,
   "metadata": {},
   "outputs": [
    {
     "data": {
      "text/plain": [
       "'MYCN'"
      ]
     },
     "execution_count": 7,
     "metadata": {},
     "output_type": "execute_result"
    }
   ],
   "source": [
    "ensg_to_genes['ENSG00000134323']"
   ]
  },
  {
   "cell_type": "markdown",
   "metadata": {},
   "source": [
    "You can imagine that if you had a long list of ENSG IDs and you created a `for` loop, you can quickly convert all the ENSG IDs to their common gene names.\n",
    "\n",
    "### Finally, we note that it is advisable to structure your code into reusable \"chunks\".  This is useful for both simple organization of code and for cases where you can re-use the code multiple times.  One way to create re-usable components is to declare \"functions\"\n",
    "\n",
    "Breaking code into small functions makes it easier to understand and test.  If each small piece does its job correctly, then you can \"guarantee\" it all works. \n",
    "\n",
    "You can define custom functions, which are just like functions in mathematics-- they take an input and produce an output.  For example, we can write a function that takes an integer as input and tells us whether the number is even or odd:"
   ]
  },
  {
   "cell_type": "code",
   "execution_count": 13,
   "metadata": {},
   "outputs": [],
   "source": [
    "def is_even(x):\n",
    "    # need to check if it's an integer.  If not, raise an error\n",
    "    if type(x) == int:\n",
    "        if x % 2 == 0:\n",
    "            return True\n",
    "        else:\n",
    "            return False\n",
    "    else:\n",
    "        print('This only works on integers')\n",
    "        raise Exception('is_even only accepts integers')"
   ]
  },
  {
   "cell_type": "markdown",
   "metadata": {},
   "source": [
    "The function takes a single input variable which we call `x`.  It produces an output that is either `True` or `False` (both of which are special Boolean values in Python).  The value that is produced by the function is often called its \"return value\" and is made explicit when we write something like `return True`. \n",
    "\n",
    "One drawback of Python not declaring \"types\" (e.g. that `x` is guaranteed to be an integer) is that we cannot guarantee `x` will be always be an integer.  Therefore, we *should* explicitly check this.  Here, we raise an \"exception\" which flags the error.  Depending on your needs, you may choose not do that and you may decide to handle those \"edge cases\" (unexpected inputs) in another way.  There is no correct or incorrect way-- just different!\n",
    "\n",
    "Using that function, we can re-run the loop we had earlier.  Note that since the last item of our list is a string (\"a\"), our function raises the exception, which causes an error, as expected."
   ]
  },
  {
   "cell_type": "code",
   "execution_count": 12,
   "metadata": {},
   "outputs": [
    {
     "name": "stdout",
     "output_type": "stream",
     "text": [
      "Even!\n",
      "Odd\n",
      "Even!\n",
      "Odd\n",
      "This only works on integers\n"
     ]
    },
    {
     "ename": "Exception",
     "evalue": "is_even only accepts integers",
     "output_type": "error",
     "traceback": [
      "\u001b[0;31m---------------------------------------------------------------------------\u001b[0m",
      "\u001b[0;31mException\u001b[0m                                 Traceback (most recent call last)",
      "\u001b[0;32m<ipython-input-12-e9b3456f8964>\u001b[0m in \u001b[0;36m<module>\u001b[0;34m\u001b[0m\n\u001b[1;32m      1\u001b[0m \u001b[0ma_list\u001b[0m \u001b[0;34m=\u001b[0m \u001b[0;34m[\u001b[0m\u001b[0;36m0\u001b[0m\u001b[0;34m,\u001b[0m\u001b[0;36m5\u001b[0m\u001b[0;34m,\u001b[0m\u001b[0;36m6\u001b[0m\u001b[0;34m,\u001b[0m\u001b[0;36m7\u001b[0m\u001b[0;34m,\u001b[0m \u001b[0;34m'a'\u001b[0m\u001b[0;34m]\u001b[0m\u001b[0;34m\u001b[0m\u001b[0;34m\u001b[0m\u001b[0m\n\u001b[1;32m      2\u001b[0m \u001b[0;32mfor\u001b[0m \u001b[0mx\u001b[0m \u001b[0;32min\u001b[0m \u001b[0ma_list\u001b[0m\u001b[0;34m:\u001b[0m\u001b[0;34m\u001b[0m\u001b[0;34m\u001b[0m\u001b[0m\n\u001b[0;32m----> 3\u001b[0;31m     \u001b[0;32mif\u001b[0m \u001b[0mis_even\u001b[0m\u001b[0;34m(\u001b[0m\u001b[0mx\u001b[0m\u001b[0;34m)\u001b[0m\u001b[0;34m:\u001b[0m\u001b[0;34m\u001b[0m\u001b[0;34m\u001b[0m\u001b[0m\n\u001b[0m\u001b[1;32m      4\u001b[0m         \u001b[0mprint\u001b[0m\u001b[0;34m(\u001b[0m\u001b[0;34m'Even!'\u001b[0m\u001b[0;34m)\u001b[0m\u001b[0;34m\u001b[0m\u001b[0;34m\u001b[0m\u001b[0m\n\u001b[1;32m      5\u001b[0m     \u001b[0;32melse\u001b[0m\u001b[0;34m:\u001b[0m\u001b[0;34m\u001b[0m\u001b[0;34m\u001b[0m\u001b[0m\n",
      "\u001b[0;32m<ipython-input-11-1dedcc9a6190>\u001b[0m in \u001b[0;36mis_even\u001b[0;34m(x)\u001b[0m\n\u001b[1;32m      8\u001b[0m     \u001b[0;32melse\u001b[0m\u001b[0;34m:\u001b[0m\u001b[0;34m\u001b[0m\u001b[0;34m\u001b[0m\u001b[0m\n\u001b[1;32m      9\u001b[0m         \u001b[0mprint\u001b[0m\u001b[0;34m(\u001b[0m\u001b[0;34m'This only works on integers'\u001b[0m\u001b[0;34m)\u001b[0m\u001b[0;34m\u001b[0m\u001b[0;34m\u001b[0m\u001b[0m\n\u001b[0;32m---> 10\u001b[0;31m         \u001b[0;32mraise\u001b[0m \u001b[0mException\u001b[0m\u001b[0;34m(\u001b[0m\u001b[0;34m'is_even only accepts integers'\u001b[0m\u001b[0;34m)\u001b[0m\u001b[0;34m\u001b[0m\u001b[0;34m\u001b[0m\u001b[0m\n\u001b[0m",
      "\u001b[0;31mException\u001b[0m: is_even only accepts integers"
     ]
    }
   ],
   "source": [
    "a_list = [0,5,6,7, 'a']\n",
    "for x in a_list:\n",
    "    if is_even(x):\n",
    "        print('Even!')\n",
    "    else:\n",
    "        print('Odd')"
   ]
  },
  {
   "cell_type": "markdown",
   "metadata": {},
   "source": [
    "### This was a very trivial example, but one can imagine how this pattern is useful.  \n",
    "\n",
    "#### By using functions, we can \"package\" code that is ready to use and is appropriately general.  For instance, someone could write a parser for arbitrary BAM files (a special alignment format for sequence reads) and distribute that to the community.  Then, assuming it was done correctly, anyone using Python can now use that code without having to know all the details about BAM files, their compression, storage, etc.  The `pysam` library is a popular Python package for doing exactly this.\n",
    "\n",
    "### The VERY brief introduction above is not meant to be comprehensive and we will encounter new syntax and situations as we progress through this course.  PLEASE stop me if you have any questions."
   ]
  }
 ],
 "metadata": {
  "kernelspec": {
   "display_name": "Python 3",
   "language": "python",
   "name": "python3"
  },
  "language_info": {
   "codemirror_mode": {
    "name": "ipython",
    "version": 3
   },
   "file_extension": ".py",
   "mimetype": "text/x-python",
   "name": "python",
   "nbconvert_exporter": "python",
   "pygments_lexer": "ipython3",
   "version": "3.6.5"
  }
 },
 "nbformat": 4,
 "nbformat_minor": 4
}
